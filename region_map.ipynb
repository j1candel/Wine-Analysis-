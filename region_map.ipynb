{
 "cells": [
  {
   "cell_type": "code",
   "execution_count": 2,
   "metadata": {},
   "outputs": [],
   "source": [
    "# Dependencies and Setup\n",
    "import matplotlib.pyplot as plt\n",
    "import pandas as pd\n",
    "import numpy as np\n",
    "import requests\n",
    "import gmaps\n",
    "import os\n",
    "import pprint\n",
    "\n",
    "\n",
    "# Import API key\n",
    "from my_api_config import g_key"
   ]
  },
  {
   "cell_type": "code",
   "execution_count": 12,
   "metadata": {},
   "outputs": [
    {
     "name": "stdout",
     "output_type": "stream",
     "text": [
      "{'candidates': [], 'status': 'ZERO_RESULTS'}\n"
     ]
    }
   ],
   "source": [
    "# Set parameters to search for locations within 5000 meters.\n",
    "# geocoordinates\n",
    "\n",
    "target_search = \"Rainstorm\"\n",
    "target_type = \"winery,wine\"\n",
    "\n",
    "# set up a parameters dictionary\n",
    "params = {\n",
    "    \"input\": target_search,\n",
    "    \"inputtype\": \"textquery\",\n",
    "    \"type\": target_type,\n",
    "    \"key\": g_key}\n",
    "\n",
    "# base url\n",
    "base_url = \"https://maps.googleapis.com/maps/api/place/findplacefromtext/json\"\n",
    "\n",
    "# run a request using our params dictionary\n",
    "response = requests.get(base_url, params=params).json()\n",
    "pprint.pprint(response)"
   ]
  },
  {
   "cell_type": "code",
   "execution_count": null,
   "metadata": {},
   "outputs": [],
   "source": [
    "# Hit the Google Places API for each city's coordinates.\n",
    "\n",
    "# Variable to store first returned result\n",
    "hotels = []\n",
    "\n",
    "print(\"Beginning search for nearby hotels... \\n-----------------------------\")\n",
    "\n",
    "# Loop through the hotel_df and run a lat/long search for each city (05-Stu_Google_Complex/Solved/Airport_Ratings)\n",
    "for index, row in hotel_df.iterrows():\n",
    "    lat = row[\"Lat\"]\n",
    "    lng = row[\"Lng\"]\n",
    "\n",
    "    # Update params coords variable\n",
    "    params[\"location\"] = f\"{lat},{lng}\"\n",
    "#     print(params['location'])\n",
    "    try:\n",
    "        print(f\"Searching hotels near {row['City']}\")\n",
    "        hotel_search = requests.get(base_url, params=params).json()\n",
    "#         print('response')\n",
    "        hotels.append(hotel_search['results'][0]['name'])\n",
    "        print('--->hotel appended')\n",
    "        \n",
    "    except KeyError and IndexError:\n",
    "        print(f\"X--X No hotels found near enough to this location. Skipping {row['City']}...\")\n",
    "        hotels.append(None)\n",
    "        \n"
   ]
  }
 ],
 "metadata": {
  "kernelspec": {
   "display_name": "Python 3",
   "language": "python",
   "name": "python3"
  },
  "language_info": {
   "codemirror_mode": {
    "name": "ipython",
    "version": 3
   },
   "file_extension": ".py",
   "mimetype": "text/x-python",
   "name": "python",
   "nbconvert_exporter": "python",
   "pygments_lexer": "ipython3",
   "version": "3.6.10"
  }
 },
 "nbformat": 4,
 "nbformat_minor": 4
}
