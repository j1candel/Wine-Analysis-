{
 "cells": [
  {
   "cell_type": "code",
   "execution_count": 16,
   "metadata": {},
   "outputs": [],
   "source": [
    "#Import Modules \n",
    "import os \n",
    "import csv \n",
    "import matplotlib.pyplot as plt\n",
    "import pandas as pd\n",
    "from scipy.stats import linregress\n",
    "import scipy.stats as sts\n",
    "import numpy as np\n",
    "\n",
    "\n",
    "# Import API key\n",
    "from api_key import g_key\n",
    "#import gmaps"
   ]
  },
  {
   "cell_type": "code",
   "execution_count": 17,
   "metadata": {},
   "outputs": [],
   "source": [
    "#Open Wine File \n",
    "csv_path = '../Resources/winemag-data.csv'"
   ]
  },
  {
   "cell_type": "code",
   "execution_count": 18,
   "metadata": {},
   "outputs": [
    {
     "data": {
      "text/html": [
       "<div>\n",
       "<style scoped>\n",
       "    .dataframe tbody tr th:only-of-type {\n",
       "        vertical-align: middle;\n",
       "    }\n",
       "\n",
       "    .dataframe tbody tr th {\n",
       "        vertical-align: top;\n",
       "    }\n",
       "\n",
       "    .dataframe thead th {\n",
       "        text-align: right;\n",
       "    }\n",
       "</style>\n",
       "<table border=\"1\" class=\"dataframe\">\n",
       "  <thead>\n",
       "    <tr style=\"text-align: right;\">\n",
       "      <th></th>\n",
       "      <th>country</th>\n",
       "      <th>description</th>\n",
       "      <th>designation</th>\n",
       "      <th>points</th>\n",
       "      <th>price</th>\n",
       "      <th>province</th>\n",
       "      <th>region_1</th>\n",
       "      <th>region_2</th>\n",
       "      <th>title</th>\n",
       "      <th>variety</th>\n",
       "      <th>winery</th>\n",
       "    </tr>\n",
       "  </thead>\n",
       "  <tbody>\n",
       "    <tr>\n",
       "      <th>3</th>\n",
       "      <td>US</td>\n",
       "      <td>Pineapple rind, lemon pith and orange blossom ...</td>\n",
       "      <td>Reserve Late Harvest</td>\n",
       "      <td>87</td>\n",
       "      <td>13.0</td>\n",
       "      <td>Michigan</td>\n",
       "      <td>Lake Michigan Shore</td>\n",
       "      <td>NaN</td>\n",
       "      <td>St. Julian 2013 Reserve Late Harvest Riesling ...</td>\n",
       "      <td>Riesling</td>\n",
       "      <td>St. Julian</td>\n",
       "    </tr>\n",
       "    <tr>\n",
       "      <th>4</th>\n",
       "      <td>US</td>\n",
       "      <td>Much like the regular bottling from 2012, this...</td>\n",
       "      <td>Vintner's Reserve Wild Child Block</td>\n",
       "      <td>87</td>\n",
       "      <td>65.0</td>\n",
       "      <td>Oregon</td>\n",
       "      <td>Willamette Valley</td>\n",
       "      <td>Willamette Valley</td>\n",
       "      <td>Sweet Cheeks 2012 Vintner's Reserve Wild Child...</td>\n",
       "      <td>Pinot Noir</td>\n",
       "      <td>Sweet Cheeks</td>\n",
       "    </tr>\n",
       "    <tr>\n",
       "      <th>5</th>\n",
       "      <td>Spain</td>\n",
       "      <td>Blackberry and raspberry aromas show a typical...</td>\n",
       "      <td>Ars In Vitro</td>\n",
       "      <td>87</td>\n",
       "      <td>15.0</td>\n",
       "      <td>Northern Spain</td>\n",
       "      <td>Navarra</td>\n",
       "      <td>NaN</td>\n",
       "      <td>Tandem 2011 Ars In Vitro Tempranillo-Merlot (N...</td>\n",
       "      <td>Tempranillo-Merlot</td>\n",
       "      <td>Tandem</td>\n",
       "    </tr>\n",
       "    <tr>\n",
       "      <th>6</th>\n",
       "      <td>Italy</td>\n",
       "      <td>Here's a bright, informal red that opens with ...</td>\n",
       "      <td>Belsito</td>\n",
       "      <td>87</td>\n",
       "      <td>16.0</td>\n",
       "      <td>Sicily &amp; Sardinia</td>\n",
       "      <td>Vittoria</td>\n",
       "      <td>NaN</td>\n",
       "      <td>Terre di Giurfo 2013 Belsito Frappato (Vittoria)</td>\n",
       "      <td>Frappato</td>\n",
       "      <td>Terre di Giurfo</td>\n",
       "    </tr>\n",
       "    <tr>\n",
       "      <th>9</th>\n",
       "      <td>France</td>\n",
       "      <td>This has great depth of flavor with its fresh ...</td>\n",
       "      <td>Les Natures</td>\n",
       "      <td>87</td>\n",
       "      <td>27.0</td>\n",
       "      <td>Alsace</td>\n",
       "      <td>Alsace</td>\n",
       "      <td>NaN</td>\n",
       "      <td>Jean-Baptiste Adam 2012 Les Natures Pinot Gris...</td>\n",
       "      <td>Pinot Gris</td>\n",
       "      <td>Jean-Baptiste Adam</td>\n",
       "    </tr>\n",
       "    <tr>\n",
       "      <th>...</th>\n",
       "      <td>...</td>\n",
       "      <td>...</td>\n",
       "      <td>...</td>\n",
       "      <td>...</td>\n",
       "      <td>...</td>\n",
       "      <td>...</td>\n",
       "      <td>...</td>\n",
       "      <td>...</td>\n",
       "      <td>...</td>\n",
       "      <td>...</td>\n",
       "      <td>...</td>\n",
       "    </tr>\n",
       "    <tr>\n",
       "      <th>129959</th>\n",
       "      <td>France</td>\n",
       "      <td>The granite soil of the Brand Grand Cru vineya...</td>\n",
       "      <td>Brand Grand Cru</td>\n",
       "      <td>90</td>\n",
       "      <td>57.0</td>\n",
       "      <td>Alsace</td>\n",
       "      <td>Alsace</td>\n",
       "      <td>NaN</td>\n",
       "      <td>Cave de Turckheim 2010 Brand Grand Cru Pinot G...</td>\n",
       "      <td>Pinot Gris</td>\n",
       "      <td>Cave de Turckheim</td>\n",
       "    </tr>\n",
       "    <tr>\n",
       "      <th>129962</th>\n",
       "      <td>Italy</td>\n",
       "      <td>Blackberry, cassis, grilled herb and toasted a...</td>\n",
       "      <td>Sàgana Tenuta San Giacomo</td>\n",
       "      <td>90</td>\n",
       "      <td>40.0</td>\n",
       "      <td>Sicily &amp; Sardinia</td>\n",
       "      <td>Sicilia</td>\n",
       "      <td>NaN</td>\n",
       "      <td>Cusumano 2012 Sàgana Tenuta San Giacomo Nero d...</td>\n",
       "      <td>Nero d'Avola</td>\n",
       "      <td>Cusumano</td>\n",
       "    </tr>\n",
       "    <tr>\n",
       "      <th>129965</th>\n",
       "      <td>France</td>\n",
       "      <td>While it's rich, this beautiful dry wine also ...</td>\n",
       "      <td>Seppi Landmann Vallée Noble</td>\n",
       "      <td>90</td>\n",
       "      <td>28.0</td>\n",
       "      <td>Alsace</td>\n",
       "      <td>Alsace</td>\n",
       "      <td>NaN</td>\n",
       "      <td>Domaine Rieflé-Landmann 2013 Seppi Landmann Va...</td>\n",
       "      <td>Pinot Gris</td>\n",
       "      <td>Domaine Rieflé-Landmann</td>\n",
       "    </tr>\n",
       "    <tr>\n",
       "      <th>129968</th>\n",
       "      <td>France</td>\n",
       "      <td>Well-drained gravel soil gives this wine its c...</td>\n",
       "      <td>Kritt</td>\n",
       "      <td>90</td>\n",
       "      <td>30.0</td>\n",
       "      <td>Alsace</td>\n",
       "      <td>Alsace</td>\n",
       "      <td>NaN</td>\n",
       "      <td>Domaine Gresser 2013 Kritt Gewurztraminer (Als...</td>\n",
       "      <td>Gewürztraminer</td>\n",
       "      <td>Domaine Gresser</td>\n",
       "    </tr>\n",
       "    <tr>\n",
       "      <th>129970</th>\n",
       "      <td>France</td>\n",
       "      <td>Big, rich and off-dry, this is powered by inte...</td>\n",
       "      <td>Lieu-dit Harth Cuvée Caroline</td>\n",
       "      <td>90</td>\n",
       "      <td>21.0</td>\n",
       "      <td>Alsace</td>\n",
       "      <td>Alsace</td>\n",
       "      <td>NaN</td>\n",
       "      <td>Domaine Schoffit 2012 Lieu-dit Harth Cuvée Car...</td>\n",
       "      <td>Gewürztraminer</td>\n",
       "      <td>Domaine Schoffit</td>\n",
       "    </tr>\n",
       "  </tbody>\n",
       "</table>\n",
       "<p>70175 rows × 11 columns</p>\n",
       "</div>"
      ],
      "text/plain": [
       "       country                                        description  \\\n",
       "3           US  Pineapple rind, lemon pith and orange blossom ...   \n",
       "4           US  Much like the regular bottling from 2012, this...   \n",
       "5        Spain  Blackberry and raspberry aromas show a typical...   \n",
       "6        Italy  Here's a bright, informal red that opens with ...   \n",
       "9       France  This has great depth of flavor with its fresh ...   \n",
       "...        ...                                                ...   \n",
       "129959  France  The granite soil of the Brand Grand Cru vineya...   \n",
       "129962   Italy  Blackberry, cassis, grilled herb and toasted a...   \n",
       "129965  France  While it's rich, this beautiful dry wine also ...   \n",
       "129968  France  Well-drained gravel soil gives this wine its c...   \n",
       "129970  France  Big, rich and off-dry, this is powered by inte...   \n",
       "\n",
       "                               designation  points  price           province  \\\n",
       "3                     Reserve Late Harvest      87   13.0           Michigan   \n",
       "4       Vintner's Reserve Wild Child Block      87   65.0             Oregon   \n",
       "5                             Ars In Vitro      87   15.0     Northern Spain   \n",
       "6                                  Belsito      87   16.0  Sicily & Sardinia   \n",
       "9                              Les Natures      87   27.0             Alsace   \n",
       "...                                    ...     ...    ...                ...   \n",
       "129959                     Brand Grand Cru      90   57.0             Alsace   \n",
       "129962           Sàgana Tenuta San Giacomo      90   40.0  Sicily & Sardinia   \n",
       "129965         Seppi Landmann Vallée Noble      90   28.0             Alsace   \n",
       "129968                               Kritt      90   30.0             Alsace   \n",
       "129970       Lieu-dit Harth Cuvée Caroline      90   21.0             Alsace   \n",
       "\n",
       "                   region_1           region_2  \\\n",
       "3       Lake Michigan Shore                NaN   \n",
       "4         Willamette Valley  Willamette Valley   \n",
       "5                   Navarra                NaN   \n",
       "6                  Vittoria                NaN   \n",
       "9                    Alsace                NaN   \n",
       "...                     ...                ...   \n",
       "129959               Alsace                NaN   \n",
       "129962              Sicilia                NaN   \n",
       "129965               Alsace                NaN   \n",
       "129968               Alsace                NaN   \n",
       "129970               Alsace                NaN   \n",
       "\n",
       "                                                    title             variety  \\\n",
       "3       St. Julian 2013 Reserve Late Harvest Riesling ...            Riesling   \n",
       "4       Sweet Cheeks 2012 Vintner's Reserve Wild Child...          Pinot Noir   \n",
       "5       Tandem 2011 Ars In Vitro Tempranillo-Merlot (N...  Tempranillo-Merlot   \n",
       "6        Terre di Giurfo 2013 Belsito Frappato (Vittoria)            Frappato   \n",
       "9       Jean-Baptiste Adam 2012 Les Natures Pinot Gris...          Pinot Gris   \n",
       "...                                                   ...                 ...   \n",
       "129959  Cave de Turckheim 2010 Brand Grand Cru Pinot G...          Pinot Gris   \n",
       "129962  Cusumano 2012 Sàgana Tenuta San Giacomo Nero d...        Nero d'Avola   \n",
       "129965  Domaine Rieflé-Landmann 2013 Seppi Landmann Va...          Pinot Gris   \n",
       "129968  Domaine Gresser 2013 Kritt Gewurztraminer (Als...      Gewürztraminer   \n",
       "129970  Domaine Schoffit 2012 Lieu-dit Harth Cuvée Car...      Gewürztraminer   \n",
       "\n",
       "                         winery  \n",
       "3                    St. Julian  \n",
       "4                  Sweet Cheeks  \n",
       "5                        Tandem  \n",
       "6               Terre di Giurfo  \n",
       "9            Jean-Baptiste Adam  \n",
       "...                         ...  \n",
       "129959        Cave de Turckheim  \n",
       "129962                 Cusumano  \n",
       "129965  Domaine Rieflé-Landmann  \n",
       "129968          Domaine Gresser  \n",
       "129970         Domaine Schoffit  \n",
       "\n",
       "[70175 rows x 11 columns]"
      ]
     },
     "execution_count": 18,
     "metadata": {},
     "output_type": "execute_result"
    }
   ],
   "source": [
    "#Read wine data \n",
    "wine_data_pd = pd.read_csv(csv_path)\n",
    "\n",
    "#Cleaning Data \n",
    "#droping wines with missing values in 'price', 'region_1','designation','points','price','title','description','variety'\n",
    "clean_data_pd = wine_data_pd.drop(['taster_name', 'taster_twitter_handle'], axis=1)\n",
    "clean_data_pd = clean_data_pd.dropna(subset=['price', 'region_1','designation','points','price','title','description','variety'])\n",
    "clean_data_pd.drop(['Unnamed: 0'], axis=1)"
   ]
  },
  {
   "cell_type": "code",
   "execution_count": 19,
   "metadata": {},
   "outputs": [
    {
     "data": {
      "text/html": [
       "<div>\n",
       "<style scoped>\n",
       "    .dataframe tbody tr th:only-of-type {\n",
       "        vertical-align: middle;\n",
       "    }\n",
       "\n",
       "    .dataframe tbody tr th {\n",
       "        vertical-align: top;\n",
       "    }\n",
       "\n",
       "    .dataframe thead th {\n",
       "        text-align: right;\n",
       "    }\n",
       "</style>\n",
       "<table border=\"1\" class=\"dataframe\">\n",
       "  <thead>\n",
       "    <tr style=\"text-align: right;\">\n",
       "      <th></th>\n",
       "      <th>points</th>\n",
       "      <th>price</th>\n",
       "    </tr>\n",
       "  </thead>\n",
       "  <tbody>\n",
       "    <tr>\n",
       "      <th>count</th>\n",
       "      <td>129971.000000</td>\n",
       "      <td>120975.000000</td>\n",
       "    </tr>\n",
       "    <tr>\n",
       "      <th>mean</th>\n",
       "      <td>88.447138</td>\n",
       "      <td>35.363389</td>\n",
       "    </tr>\n",
       "    <tr>\n",
       "      <th>std</th>\n",
       "      <td>3.039730</td>\n",
       "      <td>41.022218</td>\n",
       "    </tr>\n",
       "    <tr>\n",
       "      <th>min</th>\n",
       "      <td>80.000000</td>\n",
       "      <td>4.000000</td>\n",
       "    </tr>\n",
       "    <tr>\n",
       "      <th>25%</th>\n",
       "      <td>86.000000</td>\n",
       "      <td>17.000000</td>\n",
       "    </tr>\n",
       "    <tr>\n",
       "      <th>50%</th>\n",
       "      <td>88.000000</td>\n",
       "      <td>25.000000</td>\n",
       "    </tr>\n",
       "    <tr>\n",
       "      <th>75%</th>\n",
       "      <td>91.000000</td>\n",
       "      <td>42.000000</td>\n",
       "    </tr>\n",
       "    <tr>\n",
       "      <th>max</th>\n",
       "      <td>100.000000</td>\n",
       "      <td>3300.000000</td>\n",
       "    </tr>\n",
       "  </tbody>\n",
       "</table>\n",
       "</div>"
      ],
      "text/plain": [
       "              points          price\n",
       "count  129971.000000  120975.000000\n",
       "mean       88.447138      35.363389\n",
       "std         3.039730      41.022218\n",
       "min        80.000000       4.000000\n",
       "25%        86.000000      17.000000\n",
       "50%        88.000000      25.000000\n",
       "75%        91.000000      42.000000\n",
       "max       100.000000    3300.000000"
      ]
     },
     "execution_count": 19,
     "metadata": {},
     "output_type": "execute_result"
    }
   ],
   "source": [
    "#We want to compare original data to cleaned data - to ensure we didnt skew the results \n",
    "#by too much so we can use a .describe() to view a summary statistics table\n",
    "wine_data_pd.describe().drop(['Unnamed: 0'], axis=1)\n"
   ]
  },
  {
   "cell_type": "code",
   "execution_count": 20,
   "metadata": {
    "scrolled": true
   },
   "outputs": [
    {
     "data": {
      "text/html": [
       "<div>\n",
       "<style scoped>\n",
       "    .dataframe tbody tr th:only-of-type {\n",
       "        vertical-align: middle;\n",
       "    }\n",
       "\n",
       "    .dataframe tbody tr th {\n",
       "        vertical-align: top;\n",
       "    }\n",
       "\n",
       "    .dataframe thead th {\n",
       "        text-align: right;\n",
       "    }\n",
       "</style>\n",
       "<table border=\"1\" class=\"dataframe\">\n",
       "  <thead>\n",
       "    <tr style=\"text-align: right;\">\n",
       "      <th></th>\n",
       "      <th>points</th>\n",
       "      <th>price</th>\n",
       "    </tr>\n",
       "  </thead>\n",
       "  <tbody>\n",
       "    <tr>\n",
       "      <th>count</th>\n",
       "      <td>70175.000000</td>\n",
       "      <td>70175.000000</td>\n",
       "    </tr>\n",
       "    <tr>\n",
       "      <th>mean</th>\n",
       "      <td>88.806341</td>\n",
       "      <td>39.559017</td>\n",
       "    </tr>\n",
       "    <tr>\n",
       "      <th>std</th>\n",
       "      <td>3.061324</td>\n",
       "      <td>35.729358</td>\n",
       "    </tr>\n",
       "    <tr>\n",
       "      <th>min</th>\n",
       "      <td>80.000000</td>\n",
       "      <td>4.000000</td>\n",
       "    </tr>\n",
       "    <tr>\n",
       "      <th>25%</th>\n",
       "      <td>87.000000</td>\n",
       "      <td>20.000000</td>\n",
       "    </tr>\n",
       "    <tr>\n",
       "      <th>50%</th>\n",
       "      <td>89.000000</td>\n",
       "      <td>30.000000</td>\n",
       "    </tr>\n",
       "    <tr>\n",
       "      <th>75%</th>\n",
       "      <td>91.000000</td>\n",
       "      <td>49.000000</td>\n",
       "    </tr>\n",
       "    <tr>\n",
       "      <th>max</th>\n",
       "      <td>100.000000</td>\n",
       "      <td>2013.000000</td>\n",
       "    </tr>\n",
       "  </tbody>\n",
       "</table>\n",
       "</div>"
      ],
      "text/plain": [
       "             points         price\n",
       "count  70175.000000  70175.000000\n",
       "mean      88.806341     39.559017\n",
       "std        3.061324     35.729358\n",
       "min       80.000000      4.000000\n",
       "25%       87.000000     20.000000\n",
       "50%       89.000000     30.000000\n",
       "75%       91.000000     49.000000\n",
       "max      100.000000   2013.000000"
      ]
     },
     "execution_count": 20,
     "metadata": {},
     "output_type": "execute_result"
    }
   ],
   "source": [
    "#Compare clean data statistics to old data statistics\n",
    "clean_data_pd.describe().drop(['Unnamed: 0'], axis=1)"
   ]
  },
  {
   "cell_type": "markdown",
   "metadata": {},
   "source": [
    "We can see that there was not too much change in the statistical data of our new DF as compared to our OG. Minor differences include standard deviation of price is lower, and our percentiles have shifted upwards by a couple of dollars in price. Lastly the largest difference is the max price of our data leaving us with a less expensive wine at 2,013 vs 3300 dollars in our original data."
   ]
  },
  {
   "cell_type": "code",
   "execution_count": 21,
   "metadata": {},
   "outputs": [],
   "source": [
    "blended_wines = clean_data_pd.dropna()"
   ]
  },
  {
   "cell_type": "code",
   "execution_count": 22,
   "metadata": {},
   "outputs": [],
   "source": [
    "#find data of wine with only 1 region - typically considered a non_blended wine\n",
    "non_blended = clean_data_pd[clean_data_pd['region_2'].isnull()]"
   ]
  },
  {
   "cell_type": "code",
   "execution_count": 23,
   "metadata": {},
   "outputs": [
    {
     "data": {
      "text/plain": [
       "2013.0"
      ]
     },
     "execution_count": 23,
     "metadata": {},
     "output_type": "execute_result"
    }
   ],
   "source": [
    "clean_data_pd[\"price\"].max()"
   ]
  },
  {
   "cell_type": "code",
   "execution_count": 24,
   "metadata": {},
   "outputs": [
    {
     "name": "stdout",
     "output_type": "stream",
     "text": [
      "The r-squared is : 0.2138253489337102\n"
     ]
    },
    {
     "data": {
      "image/png": "[encoded data removed]",
      "text/plain": [
       "<Figure size 432x288 with 1 Axes>"
      ]
     },
     "metadata": {},
     "output_type": "display_data"
    }
   ],
   "source": [
    "#create a scatter plot to view relationship between wine score and wine price\n",
    "x_values = clean_data_pd[\"points\"]\n",
    "y_values = clean_data_pd[\"price\"]\n",
    "\n",
    "(slope, intercept, rvalue, pvalue, stderr) = linregress(x_values,y_values)\n",
    "regress_values = x_values * slope + intercept\n",
    "line_eq = \"y = \" + str(round(slope,2)) + \"x + \" + str(round(intercept,2))\n",
    "plt.style.use('ggplot')\n",
    "plt.scatter(x_values,y_values,facecolor='goldenrod')\n",
    "plt.plot(x_values, regress_values, \"r-\")\n",
    "plt.annotate(line_eq,(85,1250), fontsize=15, color=\"red\")\n",
    "plt.title(\"Wine Score vs Wine Price\")\n",
    "plt.xlabel(\"Price of Wine\")\n",
    "plt.ylabel(\"Points Scored by Wine\")\n",
    "print(f\"The r-squared is : {rvalue**2}\")\n"
   ]
  },
  {
   "cell_type": "markdown",
   "metadata": {},
   "source": [
    "It seems that there is no relationship between the proportion of variance in wine score and variance in wine price. We can see the rvalue measures around 21% when we do a linear regression. Because of this data, we can conclude that a higher price point doesn't directly mean the quality and rating of the wine is going to be higher. You can also see that the graph plots quite a few 100 point-scoring-wines at a fairly low price point."
   ]
  },
  {
   "cell_type": "code",
   "execution_count": 89,
   "metadata": {},
   "outputs": [],
   "source": [
    "#create bins for wine scores:\n",
    "# 95-100 Classic: a great wine\n",
    "# 90-94 Outstanding: a wine of superior character and style\n",
    "# 85-89 Very good: a wine with special qualities\n",
    "# 80-84 Good: a solid, well-made wine\n",
    "# 75-79 Mediocre: a drinkable wine that may have minor flaws\n",
    "# 50-74 Not recommended\n",
    "\n",
    "bins = [0,74,79,84,89,94,100]\n",
    "group_names = [\"50-74 Not recommended\",\n",
    "               \"75-79 Mediocre: a drinkable wine that may have minor flaws\",\n",
    "               \"80-84 Good: a solid, well-made wine\",\n",
    "               \"85-89 Very good: a wine with special qualities\",\n",
    "               \"90-94 Outstanding: a wine of superior character and style\",\n",
    "               \"95-100 Classic: a great wine\"]\n"
   ]
  },
  {
   "cell_type": "code",
   "execution_count": 270,
   "metadata": {},
   "outputs": [
    {
     "data": {
      "text/html": [
       "<div>\n",
       "<style scoped>\n",
       "    .dataframe tbody tr th:only-of-type {\n",
       "        vertical-align: middle;\n",
       "    }\n",
       "\n",
       "    .dataframe tbody tr th {\n",
       "        vertical-align: top;\n",
       "    }\n",
       "\n",
       "    .dataframe thead th {\n",
       "        text-align: right;\n",
       "    }\n",
       "</style>\n",
       "<table border=\"1\" class=\"dataframe\">\n",
       "  <thead>\n",
       "    <tr style=\"text-align: right;\">\n",
       "      <th></th>\n",
       "      <th>variety</th>\n",
       "    </tr>\n",
       "    <tr>\n",
       "      <th>Wine Score</th>\n",
       "      <th></th>\n",
       "    </tr>\n",
       "  </thead>\n",
       "  <tbody>\n",
       "    <tr>\n",
       "      <th>50-74 Not recommended</th>\n",
       "      <td>0</td>\n",
       "    </tr>\n",
       "    <tr>\n",
       "      <th>75-79 Mediocre: a drinkable wine that may have minor flaws</th>\n",
       "      <td>0</td>\n",
       "    </tr>\n",
       "    <tr>\n",
       "      <th>80-84 Good: a solid, well-made wine</th>\n",
       "      <td>5642</td>\n",
       "    </tr>\n",
       "    <tr>\n",
       "      <th>85-89 Very good: a wine with special qualities</th>\n",
       "      <td>34565</td>\n",
       "    </tr>\n",
       "    <tr>\n",
       "      <th>90-94 Outstanding: a wine of superior character and style</th>\n",
       "      <td>28416</td>\n",
       "    </tr>\n",
       "    <tr>\n",
       "      <th>95-100 Classic: a great wine</th>\n",
       "      <td>1552</td>\n",
       "    </tr>\n",
       "  </tbody>\n",
       "</table>\n",
       "</div>"
      ],
      "text/plain": [
       "                                                    variety\n",
       "Wine Score                                                 \n",
       "50-74 Not recommended                                     0\n",
       "75-79 Mediocre: a drinkable wine that may have ...        0\n",
       "80-84 Good: a solid, well-made wine                    5642\n",
       "85-89 Very good: a wine with special qualities        34565\n",
       "90-94 Outstanding: a wine of superior character...    28416\n",
       "95-100 Classic: a great wine                           1552"
      ]
     },
     "execution_count": 270,
     "metadata": {},
     "output_type": "execute_result"
    }
   ],
   "source": [
    "clean_data_pd[\"Wine Score\"] =pd.cut(clean_data_pd[\"points\"],bins, \n",
    "                                    labels=group_names, include_lowest=True)\n",
    "wine_score_bins = clean_data_pd.groupby(\"Wine Score\").count()\n",
    "wine_score_bins[[\"variety\"]]"
   ]
  },
  {
   "cell_type": "code",
   "execution_count": 86,
   "metadata": {},
   "outputs": [
    {
     "data": {
      "text/plain": [
       "80"
      ]
     },
     "execution_count": 86,
     "metadata": {},
     "output_type": "execute_result"
    }
   ],
   "source": [
    "clean_data_pd[\"points\"].min()"
   ]
  },
  {
   "cell_type": "code",
   "execution_count": 93,
   "metadata": {},
   "outputs": [
    {
     "data": {
      "text/plain": [
       "19563      80\n",
       "86711      80\n",
       "86712      80\n",
       "14343      80\n",
       "14342      80\n",
       "         ... \n",
       "345       100\n",
       "39286     100\n",
       "118058    100\n",
       "45781     100\n",
       "111754    100\n",
       "Name: points, Length: 70175, dtype: int64"
      ]
     },
     "execution_count": 93,
     "metadata": {},
     "output_type": "execute_result"
    },
    {
     "data": {
      "image/png": "[encoded data removed]",
      "text/plain": [
       "<Figure size 432x288 with 1 Axes>"
      ]
     },
     "metadata": {},
     "output_type": "display_data"
    }
   ],
   "source": [
    "x = clean_data_pd[\"points\"]\n",
    "score_min = clean_data_pd[\"points\"].min()\n",
    "\n",
    "plt.style.use('ggplot')\n",
    "plt.hist(x, bins =(bins),facecolor='darkred',edgecolor='black')\n",
    "plt.grid(axis='y', alpha=0.75)\n",
    "plt.xlim(75,105)\n",
    "plt.xlabel('Wine Score by Bin Score')\n",
    "plt.ylabel('No. of Wines')\n",
    "plt.title('Wine Scores Histogram')\n",
    "#plt.xticks([1,2,3,4],[\"80-84 Good\",\"85-89 Very good\",\"90-94 Outstanding\",\"95-100 Classic\"])\n",
    "x.sort_values()"
   ]
  },
  {
   "cell_type": "markdown",
   "metadata": {},
   "source": [
    "Notice there are no wines that scored lower than 80 points"
   ]
  },
  {
   "cell_type": "code",
   "execution_count": 29,
   "metadata": {
    "scrolled": true
   },
   "outputs": [
    {
     "data": {
      "text/html": [
       "<div>\n",
       "<style scoped>\n",
       "    .dataframe tbody tr th:only-of-type {\n",
       "        vertical-align: middle;\n",
       "    }\n",
       "\n",
       "    .dataframe tbody tr th {\n",
       "        vertical-align: top;\n",
       "    }\n",
       "\n",
       "    .dataframe thead th {\n",
       "        text-align: right;\n",
       "    }\n",
       "</style>\n",
       "<table border=\"1\" class=\"dataframe\">\n",
       "  <thead>\n",
       "    <tr style=\"text-align: right;\">\n",
       "      <th></th>\n",
       "      <th>Unnamed: 0</th>\n",
       "      <th>points</th>\n",
       "      <th>price</th>\n",
       "    </tr>\n",
       "  </thead>\n",
       "  <tbody>\n",
       "    <tr>\n",
       "      <th>count</th>\n",
       "      <td>1552.000000</td>\n",
       "      <td>1552.000000</td>\n",
       "      <td>1552.000000</td>\n",
       "    </tr>\n",
       "    <tr>\n",
       "      <th>mean</th>\n",
       "      <td>68850.943943</td>\n",
       "      <td>95.580541</td>\n",
       "      <td>114.065077</td>\n",
       "    </tr>\n",
       "    <tr>\n",
       "      <th>std</th>\n",
       "      <td>36993.083647</td>\n",
       "      <td>0.962191</td>\n",
       "      <td>101.686388</td>\n",
       "    </tr>\n",
       "    <tr>\n",
       "      <th>min</th>\n",
       "      <td>345.000000</td>\n",
       "      <td>95.000000</td>\n",
       "      <td>20.000000</td>\n",
       "    </tr>\n",
       "    <tr>\n",
       "      <th>25%</th>\n",
       "      <td>39299.750000</td>\n",
       "      <td>95.000000</td>\n",
       "      <td>59.000000</td>\n",
       "    </tr>\n",
       "    <tr>\n",
       "      <th>50%</th>\n",
       "      <td>75952.500000</td>\n",
       "      <td>95.000000</td>\n",
       "      <td>80.000000</td>\n",
       "    </tr>\n",
       "    <tr>\n",
       "      <th>75%</th>\n",
       "      <td>99315.250000</td>\n",
       "      <td>96.000000</td>\n",
       "      <td>125.000000</td>\n",
       "    </tr>\n",
       "    <tr>\n",
       "      <th>max</th>\n",
       "      <td>128683.000000</td>\n",
       "      <td>100.000000</td>\n",
       "      <td>850.000000</td>\n",
       "    </tr>\n",
       "  </tbody>\n",
       "</table>\n",
       "</div>"
      ],
      "text/plain": [
       "          Unnamed: 0       points        price\n",
       "count    1552.000000  1552.000000  1552.000000\n",
       "mean    68850.943943    95.580541   114.065077\n",
       "std     36993.083647     0.962191   101.686388\n",
       "min       345.000000    95.000000    20.000000\n",
       "25%     39299.750000    95.000000    59.000000\n",
       "50%     75952.500000    95.000000    80.000000\n",
       "75%     99315.250000    96.000000   125.000000\n",
       "max    128683.000000   100.000000   850.000000"
      ]
     },
     "execution_count": 29,
     "metadata": {},
     "output_type": "execute_result"
    }
   ],
   "source": [
    "#Which were the wines that scored so high, and what can we observe about them?\n",
    "best_wine_by_score = clean_data_pd.loc[clean_data_pd[\"Wine Score\"] == \"95-100 Classic: a great wine\"]\n",
    "best_wine_by_score.describe()"
   ]
  },
  {
   "cell_type": "markdown",
   "metadata": {},
   "source": [
    "What is driving price point? If clearly wine score is not related to the price."
   ]
  },
  {
   "cell_type": "markdown",
   "metadata": {},
   "source": [
    "We can take a look at the highest priced wines and see if we can find realtionships from the wines to the regions?"
   ]
  },
  {
   "cell_type": "code",
   "execution_count": 104,
   "metadata": {},
   "outputs": [
    {
     "data": {
      "text/html": [
       "<div>\n",
       "<style scoped>\n",
       "    .dataframe tbody tr th:only-of-type {\n",
       "        vertical-align: middle;\n",
       "    }\n",
       "\n",
       "    .dataframe tbody tr th {\n",
       "        vertical-align: top;\n",
       "    }\n",
       "\n",
       "    .dataframe thead th {\n",
       "        text-align: right;\n",
       "    }\n",
       "</style>\n",
       "<table border=\"1\" class=\"dataframe\">\n",
       "  <thead>\n",
       "    <tr style=\"text-align: right;\">\n",
       "      <th></th>\n",
       "      <th>variety</th>\n",
       "    </tr>\n",
       "    <tr>\n",
       "      <th>Wine Price Segments</th>\n",
       "      <th></th>\n",
       "    </tr>\n",
       "  </thead>\n",
       "  <tbody>\n",
       "    <tr>\n",
       "      <th>EXTREME VALUE &lt;$4</th>\n",
       "      <td>5</td>\n",
       "    </tr>\n",
       "    <tr>\n",
       "      <th>VALUE $4-$10</th>\n",
       "      <td>2048</td>\n",
       "    </tr>\n",
       "    <tr>\n",
       "      <th>POPULAR PREMIUM $10-$15</th>\n",
       "      <td>8072</td>\n",
       "    </tr>\n",
       "    <tr>\n",
       "      <th>PREMIUM $15-$20</th>\n",
       "      <td>10332</td>\n",
       "    </tr>\n",
       "    <tr>\n",
       "      <th>SUPER PREMIUM $20-$30</th>\n",
       "      <td>15389</td>\n",
       "    </tr>\n",
       "    <tr>\n",
       "      <th>ULTRA PREMIUM $30-$50</th>\n",
       "      <td>19448</td>\n",
       "    </tr>\n",
       "    <tr>\n",
       "      <th>LUXURY $50-$100</th>\n",
       "      <td>12407</td>\n",
       "    </tr>\n",
       "    <tr>\n",
       "      <th>SUPER LUXURY $100-$200</th>\n",
       "      <td>2102</td>\n",
       "    </tr>\n",
       "    <tr>\n",
       "      <th>ICON $200 +</th>\n",
       "      <td>372</td>\n",
       "    </tr>\n",
       "  </tbody>\n",
       "</table>\n",
       "</div>"
      ],
      "text/plain": [
       "                         variety\n",
       "Wine Price Segments             \n",
       "EXTREME VALUE <$4              5\n",
       "VALUE $4-$10                2048\n",
       "POPULAR PREMIUM $10-$15     8072\n",
       "PREMIUM $15-$20            10332\n",
       "SUPER PREMIUM $20-$30      15389\n",
       "ULTRA PREMIUM $30-$50      19448\n",
       "LUXURY $50-$100            12407\n",
       "SUPER LUXURY $100-$200      2102\n",
       "ICON $200 +                  372"
      ]
     },
     "execution_count": 104,
     "metadata": {},
     "output_type": "execute_result"
    }
   ],
   "source": [
    "#create bins for price segments by wine industry standard\n",
    "price_bins = [0,4,10,15,20,30,50,100,200,3000]\n",
    "price_group_names = [\"EXTREME VALUE <$4\",\"VALUE $4-$10\",\n",
    "                     \"POPULAR PREMIUM $10-$15\",\"PREMIUM $15-$20\",\n",
    "                     \"SUPER PREMIUM $20-$30\",\"ULTRA PREMIUM $30-$50\",\n",
    "                     \"LUXURY $50-$100\",\"SUPER LUXURY $100-$200\",\"ICON $200 +\"]\n",
    "clean_data_pd[\"Wine Price Segments\"] =pd.cut(clean_data_pd[\"price\"],price_bins, \n",
    "                                             labels=price_group_names, include_lowest=True)\n",
    "group = clean_data_pd.groupby('Wine Price Segments')\n",
    "wine_price_bins = clean_data_pd.groupby(\"Wine Price Segments\").count()\n",
    "wine_price_bins[[\"variety\"]]\n"
   ]
  },
  {
   "cell_type": "code",
   "execution_count": 138,
   "metadata": {
    "scrolled": false
   },
   "outputs": [
    {
     "data": {
      "text/html": [
       "<div>\n",
       "<style scoped>\n",
       "    .dataframe tbody tr th:only-of-type {\n",
       "        vertical-align: middle;\n",
       "    }\n",
       "\n",
       "    .dataframe tbody tr th {\n",
       "        vertical-align: top;\n",
       "    }\n",
       "\n",
       "    .dataframe thead th {\n",
       "        text-align: right;\n",
       "    }\n",
       "</style>\n",
       "<table border=\"1\" class=\"dataframe\">\n",
       "  <thead>\n",
       "    <tr style=\"text-align: right;\">\n",
       "      <th></th>\n",
       "      <th>country</th>\n",
       "      <th>count</th>\n",
       "    </tr>\n",
       "  </thead>\n",
       "  <tbody>\n",
       "    <tr>\n",
       "      <th>0</th>\n",
       "      <td>France</td>\n",
       "      <td>125</td>\n",
       "    </tr>\n",
       "    <tr>\n",
       "      <th>1</th>\n",
       "      <td>Italy</td>\n",
       "      <td>103</td>\n",
       "    </tr>\n",
       "    <tr>\n",
       "      <th>2</th>\n",
       "      <td>US</td>\n",
       "      <td>84</td>\n",
       "    </tr>\n",
       "    <tr>\n",
       "      <th>3</th>\n",
       "      <td>Spain</td>\n",
       "      <td>37</td>\n",
       "    </tr>\n",
       "    <tr>\n",
       "      <th>4</th>\n",
       "      <td>Australia</td>\n",
       "      <td>18</td>\n",
       "    </tr>\n",
       "    <tr>\n",
       "      <th>5</th>\n",
       "      <td>Argentina</td>\n",
       "      <td>5</td>\n",
       "    </tr>\n",
       "  </tbody>\n",
       "</table>\n",
       "</div>"
      ],
      "text/plain": [
       "     country  count\n",
       "0     France    125\n",
       "1      Italy    103\n",
       "2         US     84\n",
       "3      Spain     37\n",
       "4  Australia     18\n",
       "5  Argentina      5"
      ]
     },
     "execution_count": 138,
     "metadata": {},
     "output_type": "execute_result"
    }
   ],
   "source": [
    "#find the most expensive wine by country\n",
    "most_expensive_wine = clean_data_pd.loc[clean_data_pd[\"Wine Price Segments\"]==\"ICON $200 +\"]\n",
    "most_expensive_wine_count = most_expensive_wine['country'].value_counts()\n",
    "most_expensive_wine_count = pd.DataFrame(most_expensive_wine_count)\n",
    "most_expensive_wine_count = most_expensive_wine_count.reset_index()\n",
    "most_expensive_wine_count = most_expensive_wine_count.rename(columns={'index':'country','country':'count'})\n",
    "most_expensive_wine_count"
   ]
  },
  {
   "cell_type": "code",
   "execution_count": 162,
   "metadata": {
    "scrolled": true
   },
   "outputs": [
    {
     "data": {
      "text/plain": [
       "<BarContainer object of 6 artists>"
      ]
     },
     "execution_count": 162,
     "metadata": {},
     "output_type": "execute_result"
    },
    {
     "data": {
      "image/png": "[encoded data removed]",
      "text/plain": [
       "<Figure size 432x288 with 1 Axes>"
      ]
     },
     "metadata": {},
     "output_type": "display_data"
    }
   ],
   "source": [
    "x_axis = most_expensive_wine_count[\"country\"]\n",
    "y_axis = most_expensive_wine_count['count']\n",
    "\n",
    "plt.title(\"Most Expensive Wine by Country\")\n",
    "plt.ylabel(\"Number of Expensive Wines\")\n",
    "plt.xlabel(\"Countries Producing Wine\")\n",
    "\n",
    "plt.bar(x_axis,y_axis,color=\"darkred\")"
   ]
  },
  {
   "cell_type": "code",
   "execution_count": 238,
   "metadata": {
    "scrolled": true
   },
   "outputs": [],
   "source": [
    "expensive_french_wine = most_expensive_wine.loc[most_expensive_wine[\"country\"]==\"France\"]\n",
    "expensive_italian_wine = most_expensive_wine.loc[most_expensive_wine[\"country\"]==\"Italy\"]\n",
    "expensive_us_wine = most_expensive_wine.loc[most_expensive_wine[\"country\"]==\"US\"]\n",
    "expensive_spanish_wine = most_expensive_wine.loc[most_expensive_wine[\"country\"]==\"Spain\"]\n",
    "# expensive_french_wine_count = expensive_french_wine[\"province\"].value_counts()\n",
    "# expensive_french_wine_count= pd.DataFrame(expensive_french_wine_count)\n",
    "\n",
    "# expensive_french_wine_count = expensive_french_wine_count.reset_index()\n",
    "# expensive_french_wine_count = expensive_french_wine_count.rename(columns={'index':'province','province':'count'})\n",
    "# expensive_french_wine_count"
   ]
  },
  {
   "cell_type": "code",
   "execution_count": 240,
   "metadata": {},
   "outputs": [],
   "source": [
    "expensive_us_wine[\"variety\"].unique()\n",
    "most_us_variety_amount = len(expensive_us_wine[\"variety\"].unique())\n",
    "\n",
    "expensive_italian_wine[\"variety\"].unique()\n",
    "most_italian_variety_amount = len(expensive_italian_wine[\"variety\"].unique())\n",
    "\n",
    "expensive_french_wine[\"variety\"].unique()\n",
    "most_french_variety_amount = len(expensive_french_wine[\"variety\"].unique())\n",
    "\n",
    "expensive_spanish_wine[\"variety\"].unique()\n",
    "most_spanish_variety_amount = len(expensive_spanish_wine[\"variety\"].unique())\n",
    "\n"
   ]
  },
  {
   "cell_type": "code",
   "execution_count": 189,
   "metadata": {},
   "outputs": [],
   "source": [
    "# province = expensive_french_wine_count[\"province\"]\n",
    "# x_axis = np.arange(len(province))\n",
    "# y_axis = expensive_french_wine_count['count']\n",
    "\n",
    "# plt.title(\"Most Expensive French Wines by Province\")\n",
    "# plt.ylabel(\"Province Count\")\n",
    "# plt.xlabel(\"French Provinces\")\n",
    "\n",
    "# plt.bar(x_axis,y_axis,color=\"darkred\")\n",
    "# tick_locations = [province for province in x_axis]\n",
    "# plt.xticks(tick_locations, province, rotation=\"vertical\")"
   ]
  },
  {
   "cell_type": "code",
   "execution_count": 191,
   "metadata": {},
   "outputs": [],
   "source": [
    "# expensive_burgundy_french_wine = expensive_french_wine.loc[expensive_french_wine[\"province\"]==\"Burgundy\"]\n",
    "# expensive_burgundy_french_wine[\"region_1\"].value_counts()"
   ]
  },
  {
   "cell_type": "code",
   "execution_count": 177,
   "metadata": {},
   "outputs": [
    {
     "data": {
      "text/html": [
       "<div>\n",
       "<style scoped>\n",
       "    .dataframe tbody tr th:only-of-type {\n",
       "        vertical-align: middle;\n",
       "    }\n",
       "\n",
       "    .dataframe tbody tr th {\n",
       "        vertical-align: top;\n",
       "    }\n",
       "\n",
       "    .dataframe thead th {\n",
       "        text-align: right;\n",
       "    }\n",
       "</style>\n",
       "<table border=\"1\" class=\"dataframe\">\n",
       "  <thead>\n",
       "    <tr style=\"text-align: right;\">\n",
       "      <th></th>\n",
       "      <th>country</th>\n",
       "      <th>count</th>\n",
       "    </tr>\n",
       "  </thead>\n",
       "  <tbody>\n",
       "    <tr>\n",
       "      <th>0</th>\n",
       "      <td>Spain</td>\n",
       "      <td>602</td>\n",
       "    </tr>\n",
       "    <tr>\n",
       "      <th>1</th>\n",
       "      <td>US</td>\n",
       "      <td>578</td>\n",
       "    </tr>\n",
       "    <tr>\n",
       "      <th>2</th>\n",
       "      <td>France</td>\n",
       "      <td>330</td>\n",
       "    </tr>\n",
       "    <tr>\n",
       "      <th>3</th>\n",
       "      <td>Italy</td>\n",
       "      <td>234</td>\n",
       "    </tr>\n",
       "    <tr>\n",
       "      <th>4</th>\n",
       "      <td>Argentina</td>\n",
       "      <td>218</td>\n",
       "    </tr>\n",
       "    <tr>\n",
       "      <th>5</th>\n",
       "      <td>Australia</td>\n",
       "      <td>86</td>\n",
       "    </tr>\n",
       "  </tbody>\n",
       "</table>\n",
       "</div>"
      ],
      "text/plain": [
       "     country  count\n",
       "0      Spain    602\n",
       "1         US    578\n",
       "2     France    330\n",
       "3      Italy    234\n",
       "4  Argentina    218\n",
       "5  Australia     86"
      ]
     },
     "execution_count": 177,
     "metadata": {},
     "output_type": "execute_result"
    }
   ],
   "source": [
    "least_expensive_wine = clean_data_pd.loc[clean_data_pd[\"Wine Price Segments\"]== \"VALUE $4-$10\"]\n",
    "least_expensive_wine_df = least_expensive_wine[\"country\"].value_counts()\n",
    "least_expensive_wine_df = pd.DataFrame(least_expensive_wine_df)\n",
    "least_expensive_wine_df = least_expensive_wine_df.reset_index()\n",
    "least_expensive_wine_df = least_expensive_wine_df.rename(columns={'index':'country','country':'count'})\n",
    "least_expensive_wine_df"
   ]
  },
  {
   "cell_type": "code",
   "execution_count": 175,
   "metadata": {},
   "outputs": [
    {
     "data": {
      "text/plain": [
       "<BarContainer object of 6 artists>"
      ]
     },
     "execution_count": 175,
     "metadata": {},
     "output_type": "execute_result"
    },
    {
     "data": {
      "image/png": "[encoded data removed]",
      "text/plain": [
       "<Figure size 432x288 with 1 Axes>"
      ]
     },
     "metadata": {},
     "output_type": "display_data"
    }
   ],
   "source": [
    "x_axis = least_expensive_wine[\"country\"]\n",
    "y_axis = least_expensive_wine['count']\n",
    "\n",
    "plt.title(\"Least Expensive Wine by Country\")\n",
    "plt.ylabel(\"Number of Expensive Wines\")\n",
    "plt.xlabel(\"Countries Producing Wine\")\n",
    "\n",
    "plt.bar(x_axis,y_axis,color=\"darkred\")"
   ]
  },
  {
   "cell_type": "code",
   "execution_count": 245,
   "metadata": {},
   "outputs": [],
   "source": [
    "least_expensive_spanish_wine = least_expensive_wine.loc[least_expensive_wine[\"country\"]==\"Spain\"]\n",
    "least_expensive_us_wine = least_expensive_wine.loc[least_expensive_wine[\"country\"]==\"US\"]\n",
    "least_expensive_french_wine = least_expensive_wine.loc[least_expensive_wine[\"country\"]==\"France\"]\n",
    "least_expensive_italian_wine = least_expensive_wine.loc[least_expensive_wine[\"country\"]==\"Italy\"]"
   ]
  },
  {
   "cell_type": "code",
   "execution_count": 246,
   "metadata": {},
   "outputs": [],
   "source": [
    "least_expensive_spanish_wine[\"variety\"].unique()\n",
    "spanish_variety_amount = len(least_expensive_spanish_wine[\"variety\"].unique())\n",
    "\n",
    "least_expensive_us_wine[\"variety\"].unique()\n",
    "us_variety_amount = len(least_expensive_us_wine[\"variety\"].unique())\n",
    "\n",
    "least_expensive_french_wine[\"variety\"].unique()\n",
    "french_variety_amount = len(least_expensive_french_wine[\"variety\"].unique())\n",
    "\n",
    "least_expensive_italian_wine[\"variety\"].unique()\n",
    "italian_variety_amount = len(least_expensive_italian_wine[\"variety\"].unique())\n"
   ]
  },
  {
   "cell_type": "code",
   "execution_count": 199,
   "metadata": {},
   "outputs": [
    {
     "data": {
      "text/html": [
       "<div>\n",
       "<style scoped>\n",
       "    .dataframe tbody tr th:only-of-type {\n",
       "        vertical-align: middle;\n",
       "    }\n",
       "\n",
       "    .dataframe tbody tr th {\n",
       "        vertical-align: top;\n",
       "    }\n",
       "\n",
       "    .dataframe thead th {\n",
       "        text-align: right;\n",
       "    }\n",
       "</style>\n",
       "<table border=\"1\" class=\"dataframe\">\n",
       "  <thead>\n",
       "    <tr style=\"text-align: right;\">\n",
       "      <th></th>\n",
       "      <th>French Variety</th>\n",
       "      <th>Spanish Variety</th>\n",
       "    </tr>\n",
       "  </thead>\n",
       "  <tbody>\n",
       "    <tr>\n",
       "      <th>0</th>\n",
       "      <td>11</td>\n",
       "      <td>50</td>\n",
       "    </tr>\n",
       "  </tbody>\n",
       "</table>\n",
       "</div>"
      ],
      "text/plain": [
       "   French Variety  Spanish Variety\n",
       "0              11               50"
      ]
     },
     "execution_count": 199,
     "metadata": {},
     "output_type": "execute_result"
    }
   ],
   "source": [
    "Most_Least_Variety_df"
   ]
  },
  {
   "cell_type": "code",
   "execution_count": 217,
   "metadata": {},
   "outputs": [
    {
     "name": "stderr",
     "output_type": "stream",
     "text": [
      "<ipython-input-217-7d34d3fe4db8>:9: MatplotlibDeprecationWarning: Non-1D inputs to pie() are currently squeeze()d, but this behavior is deprecated since 3.1 and will be removed in 3.3; pass a 1D array instead.\n",
      "  plt.pie(count, explode = explode, colors=color, labels=labels, shadow=True, autopct =\"%1.1f%%\",startangle = 40)\n"
     ]
    },
    {
     "data": {
      "text/plain": [
       "([<matplotlib.patches.Wedge at 0x7f9a83f2b670>,\n",
       "  <matplotlib.patches.Wedge at 0x7f9a90d66160>],\n",
       " [Text(0.3616655210446582, 1.1442019274968454, 'French Varieties'),\n",
       "  Text(-0.33152682582485776, -1.0488517358323313, 'Spanish Varieties')],\n",
       " [Text(0.21097155394271727, 0.6674511243731597, '18.0%'),\n",
       "  Text(-0.18083281408628601, -0.5721009468176352, '82.0%')])"
      ]
     },
     "execution_count": 217,
     "metadata": {},
     "output_type": "execute_result"
    },
    {
     "data": {
      "image/png": "[encoded data removed]",
      "text/plain": [
       "<Figure size 432x288 with 1 Axes>"
      ]
     },
     "metadata": {},
     "output_type": "display_data"
    }
   ],
   "source": [
    "Most_Least_Variety = {\"French Variety\": [french_variety_amount],\"Spanish Variety\": [spanish_variety_amount]}\n",
    "Most_Least_Variety_df = pd.DataFrame(Most_Least_Variety)\n",
    "\n",
    "labels = [\"French Varieties\", \"Spanish Varieties\"]\n",
    "count = Most_Least_Variety_df\n",
    "color = ['goldenrod','darkred']\n",
    "explode = (.1,0)\n",
    "\n",
    "plt.pie(count, explode = explode, colors=color, labels=labels, shadow=True, autopct =\"%1.1f%%\",startangle = 40)\n"
   ]
  },
  {
   "cell_type": "code",
   "execution_count": 249,
   "metadata": {},
   "outputs": [
    {
     "data": {
      "text/html": [
       "<div>\n",
       "<style scoped>\n",
       "    .dataframe tbody tr th:only-of-type {\n",
       "        vertical-align: middle;\n",
       "    }\n",
       "\n",
       "    .dataframe tbody tr th {\n",
       "        vertical-align: top;\n",
       "    }\n",
       "\n",
       "    .dataframe thead th {\n",
       "        text-align: right;\n",
       "    }\n",
       "</style>\n",
       "<table border=\"1\" class=\"dataframe\">\n",
       "  <thead>\n",
       "    <tr style=\"text-align: right;\">\n",
       "      <th></th>\n",
       "      <th>Most Expensive</th>\n",
       "      <th>Least Expensive</th>\n",
       "    </tr>\n",
       "  </thead>\n",
       "  <tbody>\n",
       "    <tr>\n",
       "      <th>France</th>\n",
       "      <td>11</td>\n",
       "      <td>39</td>\n",
       "    </tr>\n",
       "    <tr>\n",
       "      <th>Italy</th>\n",
       "      <td>12</td>\n",
       "      <td>44</td>\n",
       "    </tr>\n",
       "    <tr>\n",
       "      <th>US</th>\n",
       "      <td>7</td>\n",
       "      <td>39</td>\n",
       "    </tr>\n",
       "    <tr>\n",
       "      <th>Spain</th>\n",
       "      <td>10</td>\n",
       "      <td>50</td>\n",
       "    </tr>\n",
       "  </tbody>\n",
       "</table>\n",
       "</div>"
      ],
      "text/plain": [
       "        Most Expensive  Least Expensive\n",
       "France              11               39\n",
       "Italy               12               44\n",
       "US                   7               39\n",
       "Spain               10               50"
      ]
     },
     "execution_count": 249,
     "metadata": {},
     "output_type": "execute_result"
    }
   ],
   "source": [
    "most_expensive_varieties = {\"Most Expensive\":{\"France\": most_french_variety_amount,\"Italy\": most_italian_variety_amount ,\"US\":most_us_variety_amount, \"Spain\": most_spanish_variety_amount}, \"Least Expensive\":{\"Spain\": spanish_variety_amount, \"US\":us_variety_amount,\"France\":french_variety_amount,\"Italy\":italian_variety_amount}}\n",
    "most_expensive_varieties_df = pd.DataFrame(most_expensive_varieties)\n",
    "most_expensive_varieties_df\n",
    "\n"
   ]
  },
  {
   "cell_type": "code",
   "execution_count": 252,
   "metadata": {},
   "outputs": [
    {
     "data": {
      "text/html": [
       "<div>\n",
       "<style scoped>\n",
       "    .dataframe tbody tr th:only-of-type {\n",
       "        vertical-align: middle;\n",
       "    }\n",
       "\n",
       "    .dataframe tbody tr th {\n",
       "        vertical-align: top;\n",
       "    }\n",
       "\n",
       "    .dataframe thead th {\n",
       "        text-align: right;\n",
       "    }\n",
       "</style>\n",
       "<table border=\"1\" class=\"dataframe\">\n",
       "  <thead>\n",
       "    <tr style=\"text-align: right;\">\n",
       "      <th></th>\n",
       "      <th>level_0</th>\n",
       "      <th>index</th>\n",
       "      <th>Most Expensive</th>\n",
       "      <th>Least Expensive</th>\n",
       "    </tr>\n",
       "  </thead>\n",
       "  <tbody>\n",
       "    <tr>\n",
       "      <th>0</th>\n",
       "      <td>0</td>\n",
       "      <td>France</td>\n",
       "      <td>11</td>\n",
       "      <td>39</td>\n",
       "    </tr>\n",
       "    <tr>\n",
       "      <th>1</th>\n",
       "      <td>1</td>\n",
       "      <td>Italy</td>\n",
       "      <td>12</td>\n",
       "      <td>44</td>\n",
       "    </tr>\n",
       "    <tr>\n",
       "      <th>2</th>\n",
       "      <td>2</td>\n",
       "      <td>US</td>\n",
       "      <td>7</td>\n",
       "      <td>39</td>\n",
       "    </tr>\n",
       "    <tr>\n",
       "      <th>3</th>\n",
       "      <td>3</td>\n",
       "      <td>Spain</td>\n",
       "      <td>10</td>\n",
       "      <td>50</td>\n",
       "    </tr>\n",
       "  </tbody>\n",
       "</table>\n",
       "</div>"
      ],
      "text/plain": [
       "   level_0   index  Most Expensive  Least Expensive\n",
       "0        0  France              11               39\n",
       "1        1   Italy              12               44\n",
       "2        2      US               7               39\n",
       "3        3   Spain              10               50"
      ]
     },
     "execution_count": 252,
     "metadata": {},
     "output_type": "execute_result"
    }
   ],
   "source": [
    "most_expensive_varieties_df = most_expensive_varieties_df.reset_index()\n",
    "most_expensive_varieties_df"
   ]
  },
  {
   "cell_type": "code",
   "execution_count": 269,
   "metadata": {},
   "outputs": [
    {
     "data": {
      "image/png": "[encoded data removed]",
      "text/plain": [
       "<Figure size 432x288 with 1 Axes>"
      ]
     },
     "metadata": {},
     "output_type": "display_data"
    }
   ],
   "source": [
    "#create a scatter plot to view relationship between wine score and wine price\n",
    "x_values = most_expensive_varieties_df[\"index\"]\n",
    "y_1_values = most_expensive_varieties_df[\"Most Expensive\"]\n",
    "y_2_values = most_expensive_varieties_df[\"Least Expensive\"]\n",
    "\n",
    "\n",
    "# (slope, intercept, rvalue, pvalue, stderr) = linregress(x_values,y_values)\n",
    "# regress_values = x_values * slope + intercept\n",
    "# line_eq = \"y = \" + str(round(slope,2)) + \"x + \" + str(round(intercept,2))\n",
    "# plt.style.use('ggplot')\n",
    "# # plt.scatter(x_values,y_values,facecolor='goldenrod')\n",
    "# plt.plot(x_values, regress_values, \"r-\")\n",
    "# plt.annotate(line_eq,(85,1250), fontsize=15, color=\"red\")\n",
    "plt.title(\"Number of Varieties (Most v Least Expensive Wines) by Country\")\n",
    "plt.xlabel(\"Country\")\n",
    "plt.ylabel(\"Variety Amount\")\n",
    "# print(f\"The r-squared is : {rvalue**2}\")\n",
    "\n",
    "plt.bar(x_values,y_2_values,color='goldenrod',label=\"$4-10 VALUE Wines\")\n",
    "plt.bar(x_values,y_1_values,color='darkred',label=\"$200+ ICON Wines\")\n",
    "plt.legend(loc='upper left')\n",
    "plt.show()\n"
   ]
  },
  {
   "cell_type": "code",
   "execution_count": 273,
   "metadata": {},
   "outputs": [
    {
     "data": {
      "text/html": [
       "<div>\n",
       "<style scoped>\n",
       "    .dataframe tbody tr th:only-of-type {\n",
       "        vertical-align: middle;\n",
       "    }\n",
       "\n",
       "    .dataframe tbody tr th {\n",
       "        vertical-align: top;\n",
       "    }\n",
       "\n",
       "    .dataframe thead th {\n",
       "        text-align: right;\n",
       "    }\n",
       "</style>\n",
       "<table border=\"1\" class=\"dataframe\">\n",
       "  <thead>\n",
       "    <tr style=\"text-align: right;\">\n",
       "      <th></th>\n",
       "      <th>Unnamed: 0</th>\n",
       "      <th>country</th>\n",
       "      <th>description</th>\n",
       "      <th>designation</th>\n",
       "      <th>points</th>\n",
       "      <th>price</th>\n",
       "      <th>province</th>\n",
       "      <th>region_1</th>\n",
       "      <th>region_2</th>\n",
       "      <th>title</th>\n",
       "      <th>variety</th>\n",
       "      <th>winery</th>\n",
       "      <th>Wine Score</th>\n",
       "      <th>Wine Price Segments</th>\n",
       "      <th>Wine Year</th>\n",
       "      <th>counter</th>\n",
       "    </tr>\n",
       "  </thead>\n",
       "  <tbody>\n",
       "    <tr>\n",
       "      <th>3</th>\n",
       "      <td>3</td>\n",
       "      <td>US</td>\n",
       "      <td>Pineapple rind, lemon pith and orange blossom ...</td>\n",
       "      <td>Reserve Late Harvest</td>\n",
       "      <td>87</td>\n",
       "      <td>13.0</td>\n",
       "      <td>Michigan</td>\n",
       "      <td>Lake Michigan Shore</td>\n",
       "      <td>NaN</td>\n",
       "      <td>St. Julian 2013 Reserve Late Harvest Riesling ...</td>\n",
       "      <td>Riesling</td>\n",
       "      <td>St. Julian</td>\n",
       "      <td>85-89 Very good: a wine with special qualities</td>\n",
       "      <td>POPULAR PREMIUM $10-$15</td>\n",
       "      <td>2013</td>\n",
       "      <td>1</td>\n",
       "    </tr>\n",
       "    <tr>\n",
       "      <th>4</th>\n",
       "      <td>4</td>\n",
       "      <td>US</td>\n",
       "      <td>Much like the regular bottling from 2012, this...</td>\n",
       "      <td>Vintner's Reserve Wild Child Block</td>\n",
       "      <td>87</td>\n",
       "      <td>65.0</td>\n",
       "      <td>Oregon</td>\n",
       "      <td>Willamette Valley</td>\n",
       "      <td>Willamette Valley</td>\n",
       "      <td>Sweet Cheeks 2012 Vintner's Reserve Wild Child...</td>\n",
       "      <td>Pinot Noir</td>\n",
       "      <td>Sweet Cheeks</td>\n",
       "      <td>85-89 Very good: a wine with special qualities</td>\n",
       "      <td>LUXURY $50-$100</td>\n",
       "      <td>2012</td>\n",
       "      <td>1</td>\n",
       "    </tr>\n",
       "    <tr>\n",
       "      <th>5</th>\n",
       "      <td>5</td>\n",
       "      <td>Spain</td>\n",
       "      <td>Blackberry and raspberry aromas show a typical...</td>\n",
       "      <td>Ars In Vitro</td>\n",
       "      <td>87</td>\n",
       "      <td>15.0</td>\n",
       "      <td>Northern Spain</td>\n",
       "      <td>Navarra</td>\n",
       "      <td>NaN</td>\n",
       "      <td>Tandem 2011 Ars In Vitro Tempranillo-Merlot (N...</td>\n",
       "      <td>Tempranillo-Merlot</td>\n",
       "      <td>Tandem</td>\n",
       "      <td>85-89 Very good: a wine with special qualities</td>\n",
       "      <td>POPULAR PREMIUM $10-$15</td>\n",
       "      <td>2011</td>\n",
       "      <td>1</td>\n",
       "    </tr>\n",
       "  </tbody>\n",
       "</table>\n",
       "</div>"
      ],
      "text/plain": [
       "   Unnamed: 0 country                                        description  \\\n",
       "3           3      US  Pineapple rind, lemon pith and orange blossom ...   \n",
       "4           4      US  Much like the regular bottling from 2012, this...   \n",
       "5           5   Spain  Blackberry and raspberry aromas show a typical...   \n",
       "\n",
       "                          designation  points  price        province  \\\n",
       "3                Reserve Late Harvest      87   13.0        Michigan   \n",
       "4  Vintner's Reserve Wild Child Block      87   65.0          Oregon   \n",
       "5                        Ars In Vitro      87   15.0  Northern Spain   \n",
       "\n",
       "              region_1           region_2  \\\n",
       "3  Lake Michigan Shore                NaN   \n",
       "4    Willamette Valley  Willamette Valley   \n",
       "5              Navarra                NaN   \n",
       "\n",
       "                                               title             variety  \\\n",
       "3  St. Julian 2013 Reserve Late Harvest Riesling ...            Riesling   \n",
       "4  Sweet Cheeks 2012 Vintner's Reserve Wild Child...          Pinot Noir   \n",
       "5  Tandem 2011 Ars In Vitro Tempranillo-Merlot (N...  Tempranillo-Merlot   \n",
       "\n",
       "         winery                                      Wine Score  \\\n",
       "3    St. Julian  85-89 Very good: a wine with special qualities   \n",
       "4  Sweet Cheeks  85-89 Very good: a wine with special qualities   \n",
       "5        Tandem  85-89 Very good: a wine with special qualities   \n",
       "\n",
       "       Wine Price Segments Wine Year  counter  \n",
       "3  POPULAR PREMIUM $10-$15      2013        1  \n",
       "4          LUXURY $50-$100      2012        1  \n",
       "5  POPULAR PREMIUM $10-$15      2011        1  "
      ]
     },
     "execution_count": 273,
     "metadata": {},
     "output_type": "execute_result"
    }
   ],
   "source": [
    "\n",
    "# Add a wine year column\n",
    "# Wine Years: Wine year was derived by searching for a 4 digit numeric value beginning with a \"2\".\n",
    "#There are wine titles that include years prior to the year 2000. Based on additional analysis\n",
    "# years prior to 2000 are not accurate with the exception of a 1947 and a 1945 year.\n",
    "clean_data_pd['Wine Year'] = wine_data_pd['title'].str.extract(r'(2\\d{3})(?=\\s|$)')\n",
    "clean_data_pd[\"counter\"] = 1\n",
    "clean_data_pd.head()\n",
    "\n",
    "# clean_data_pd.dropna(inplace=True)\n",
    "clean_data_pd.head(3)"
   ]
  },
  {
   "cell_type": "code",
   "execution_count": 290,
   "metadata": {},
   "outputs": [],
   "source": [
    "by_year = clean_data_pd.groupby(\"Wine Year\")\n",
    "mean_price_by_year = by_year[[\"price\"]].mean()"
   ]
  },
  {
   "cell_type": "code",
   "execution_count": 293,
   "metadata": {},
   "outputs": [
    {
     "data": {
      "text/plain": [
       "([0, 1, 2, 3, 4, 5, 6, 7, 8, 9, 10, 11, 12, 13, 14, 15, 16, 17],\n",
       " <a list of 18 Text major ticklabel objects>)"
      ]
     },
     "execution_count": 293,
     "metadata": {},
     "output_type": "execute_result"
    },
    {
     "data": {
      "image/png": "[encoded data removed]",
      "text/plain": [
       "<Figure size 432x288 with 1 Axes>"
      ]
     },
     "metadata": {},
     "output_type": "display_data"
    }
   ],
   "source": [
    "plt.plot(mean_price_by_year)\n",
    "plt.title(\"Average Price of Wine by Year\")\n",
    "plt.xlabel(\"Year\")\n",
    "plt.ylabel(\"Average Price\")\n",
    "plt.xticks(rotation=\"vertical\")"
   ]
  },
  {
   "cell_type": "code",
   "execution_count": null,
   "metadata": {},
   "outputs": [],
   "source": []
  }
 ],
 "metadata": {
  "kernelspec": {
   "display_name": "Python 3",
   "language": "python",
   "name": "python3"
  },
  "language_info": {
   "codemirror_mode": {
    "name": "ipython",
    "version": 3
   },
   "file_extension": ".py",
   "mimetype": "text/x-python",
   "name": "python",
   "nbconvert_exporter": "python",
   "pygments_lexer": "ipython3",
   "version": "3.8.3"
  }
 },
 "nbformat": 4,
 "nbformat_minor": 4
}
